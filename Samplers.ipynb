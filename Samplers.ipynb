{
 "cells": [
  {
   "cell_type": "code",
   "execution_count": 2,
   "metadata": {},
   "outputs": [],
   "source": [
    "import numpy as np\n",
    "import torch\n",
    "import torchvision\n",
    "import torch.nn as nn\n",
    "import torch.nn.functional as F\n",
    "\n",
    "import matplotlib.pyplot as plt\n",
    "from collections import defaultdict, Counter"
   ]
  },
  {
   "cell_type": "code",
   "execution_count": 10,
   "metadata": {},
   "outputs": [],
   "source": [
    "from torch.utils.data.sampler import *\n",
    "from torch.utils.data import DataLoader"
   ]
  },
  {
   "cell_type": "markdown",
   "metadata": {},
   "source": [
    "### `SequentialSampler`\n",
    "same as `shuffle=False`"
   ]
  },
  {
   "cell_type": "code",
   "execution_count": 11,
   "metadata": {},
   "outputs": [
    {
     "name": "stdout",
     "output_type": "stream",
     "text": [
      "tensor([0, 1])\n",
      "tensor([2, 3])\n",
      "tensor([4, 5])\n",
      "tensor([6, 7])\n",
      "tensor([8, 9])\n"
     ]
    }
   ],
   "source": [
    "dset = range(10)\n",
    "dl_train = DataLoader(dset, batch_size=2, sampler=SequentialSampler(dset))\n",
    "\n",
    "for x in dl_train:\n",
    "    print(x)"
   ]
  },
  {
   "cell_type": "markdown",
   "metadata": {},
   "source": [
    "### `RandomSampler`\n",
    "smae as `shuffle=True`"
   ]
  },
  {
   "cell_type": "code",
   "execution_count": 12,
   "metadata": {},
   "outputs": [
    {
     "name": "stdout",
     "output_type": "stream",
     "text": [
      "tensor([6, 9])\n",
      "tensor([5, 4])\n",
      "tensor([1, 0])\n",
      "tensor([2, 3])\n",
      "tensor([7, 8])\n"
     ]
    }
   ],
   "source": [
    "dset = range(10)\n",
    "dl_train = DataLoader(dset, batch_size=2, sampler=RandomSampler(dset))\n",
    "\n",
    "for x in dl_train:\n",
    "    print(x)"
   ]
  },
  {
   "cell_type": "markdown",
   "metadata": {},
   "source": [
    "### `SubsetRandomSampler`\n",
    "Only sample even samples "
   ]
  },
  {
   "cell_type": "code",
   "execution_count": 13,
   "metadata": {},
   "outputs": [
    {
     "name": "stdout",
     "output_type": "stream",
     "text": [
      "tensor([12,  6])\n",
      "tensor([ 8, 18])\n",
      "tensor([2, 4])\n",
      "tensor([ 0, 10])\n",
      "tensor([14, 16])\n"
     ]
    }
   ],
   "source": [
    "dset = range(20)\n",
    "idx = torch.tensor(dset) % 2 == 0\n",
    "dl_train = DataLoader(dset, batch_size=2, sampler=SubsetRandomSampler(np.where(idx)[0]))\n",
    "\n",
    "for x in dl_train:\n",
    "    print(x)"
   ]
  },
  {
   "cell_type": "markdown",
   "metadata": {},
   "source": [
    "### `WeightedRandomSampler`\n",
    "\n",
    "The weighted sampling should be used for training, to balance the classes in each batch, when there are unbalanced classes in the dataset."
   ]
  },
  {
   "cell_type": "markdown",
   "metadata": {},
   "source": [
    "First we create a custom dataset with unbalanced labels. This dataset has two classes: calss 0 has 10 samples and class 1 has 30 samples"
   ]
  },
  {
   "cell_type": "code",
   "execution_count": 79,
   "metadata": {},
   "outputs": [],
   "source": [
    "class Dset(torch.utils.data.Dataset):\n",
    "    def __init__(self):\n",
    "        super(Dset, self).__init__()\n",
    "        x = list(zip(np.arange(40), [0]*10 + [1]*30))\n",
    "        np.random.shuffle(x)\n",
    "        self.data = torch.tensor([y for (y, _) in x])\n",
    "        self.targets = [y for (_, y) in x ]\n",
    "\n",
    "    def __len__(self):\n",
    "        return len(self.data)\n",
    "    \n",
    "    def __getitem__(self, i):\n",
    "        return self.data[i], self.targets[i]\n",
    "    \n",
    "dset = Dset()    "
   ]
  },
  {
   "cell_type": "code",
   "execution_count": 80,
   "metadata": {},
   "outputs": [
    {
     "name": "stdout",
     "output_type": "stream",
     "text": [
      "tensor([30, 24, 21, 33]) tensor([1, 1, 1, 1])\n",
      "tensor([19, 23, 32,  7]) tensor([1, 1, 1, 0])\n",
      "tensor([39,  6, 37, 35]) tensor([1, 0, 1, 1])\n",
      "tensor([ 1,  5,  2, 16]) tensor([0, 0, 0, 1])\n",
      "tensor([11, 31, 10, 29]) tensor([1, 1, 1, 1])\n",
      "tensor([20,  4,  9,  0]) tensor([1, 0, 0, 0])\n",
      "tensor([22, 14, 28, 36]) tensor([1, 1, 1, 1])\n",
      "tensor([ 3,  8, 12, 17]) tensor([0, 0, 1, 1])\n",
      "tensor([13, 26, 18, 25]) tensor([1, 1, 1, 1])\n",
      "tensor([15, 34, 38, 27]) tensor([1, 1, 1, 1])\n"
     ]
    }
   ],
   "source": [
    "# a simple random sampler\n",
    "dl = DataLoader(dset, batch_size=4, shuffle=True)\n",
    "for x, y in dl:\n",
    "    print(x, y)"
   ]
  },
  {
   "cell_type": "markdown",
   "metadata": {},
   "source": [
    "We can see that the batches are not balanced, causing the training to overfit "
   ]
  },
  {
   "cell_type": "code",
   "execution_count": 160,
   "metadata": {},
   "outputs": [
    {
     "name": "stdout",
     "output_type": "stream",
     "text": [
      "class count: Counter({1: 30, 0: 10})\n",
      "class weight: {1: 0.03333333333333333, 0: 0.1}\n",
      "tensor([ 9, 27, 17, 11]) tensor([0, 1, 1, 1])\n",
      "tensor([ 9, 38,  7, 13]) tensor([0, 1, 0, 1])\n",
      "tensor([ 4,  0,  9, 33]) tensor([0, 0, 0, 1])\n",
      "tensor([6, 4, 8, 6]) tensor([0, 0, 0, 0])\n",
      "tensor([25,  6, 20, 13]) tensor([1, 0, 1, 1])\n",
      "tensor([33,  6,  5,  3]) tensor([1, 0, 0, 0])\n",
      "tensor([ 2, 19, 13,  8]) tensor([0, 1, 1, 0])\n",
      "tensor([ 0, 37,  0, 19]) tensor([0, 1, 0, 1])\n",
      "tensor([ 3,  8, 23,  2]) tensor([0, 0, 1, 0])\n",
      "tensor([21,  7, 16, 18]) tensor([1, 0, 1, 1])\n"
     ]
    }
   ],
   "source": [
    "# Weighted random sampler\n",
    "batch_size = 4\n",
    "class_count = Counter([i_label for (_, i_label) in dset])\n",
    "\n",
    "\n",
    "weight = {k: 1./v for k, v in class_count.items()}\n",
    "sample_weight = [weight[i] for _, i in dset]\n",
    "\n",
    "print(f'class count: {class_count}')\n",
    "print(f'class weight: {weight}')\n",
    "\n",
    "dl = DataLoader(dset, batch_size=batch_size,\n",
    "                sampler=WeightedRandomSampler(sample_weight, len(dset), replacement=True))\n",
    "\n",
    "for x, y in dl:\n",
    "    print(x, y)\n"
   ]
  },
  {
   "cell_type": "code",
   "execution_count": 165,
   "metadata": {},
   "outputs": [
    {
     "data": {
      "text/plain": [
       "[<matplotlib.lines.Line2D at 0x123126f60>]"
      ]
     },
     "execution_count": 165,
     "metadata": {},
     "output_type": "execute_result"
    },
    {
     "data": {
      "image/png": "[encoded data removed]",
      "text/plain": [
       "<Figure size 432x288 with 1 Axes>"
      ]
     },
     "metadata": {
      "needs_background": "light"
     },
     "output_type": "display_data"
    }
   ],
   "source": [
    "ys_sum = []\n",
    "for i in range(10):\n",
    "    ys = torch.tensor([], dtype=torch.long)\n",
    "    for x, y in dl:\n",
    "        ys = torch.cat([ys, y])\n",
    "\n",
    "    ys_sum.append(torch.sum(ys))\n",
    "plt.plot(ys_sum, '-o')"
   ]
  }
 ],
 "metadata": {
  "kernelspec": {
   "display_name": "Python 3",
   "language": "python",
   "name": "python3"
  },
  "language_info": {
   "codemirror_mode": {
    "name": "ipython",
    "version": 3
   },
   "file_extension": ".py",
   "mimetype": "text/x-python",
   "name": "python",
   "nbconvert_exporter": "python",
   "pygments_lexer": "ipython3",
   "version": "3.6.3"
  }
 },
 "nbformat": 4,
 "nbformat_minor": 2
}
